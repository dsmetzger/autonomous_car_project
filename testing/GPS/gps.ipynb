{
 "cells": [
  {
   "cell_type": "code",
   "execution_count": null,
   "metadata": {
    "collapsed": true
   },
   "outputs": [],
   "source": []
  },
  {
   "cell_type": "code",
   "execution_count": 28,
   "metadata": {
    "collapsed": false
   },
   "outputs": [],
   "source": []
  },
  {
   "cell_type": "code",
   "execution_count": 37,
   "metadata": {
    "collapsed": false
   },
   "outputs": [
    {
     "name": "stdout",
     "output_type": "stream",
     "text": [
      "47\n",
      "3849.6690\n",
      "3849.6688\n",
      "3849.6682\n",
      "3849.6673\n",
      "3849.6671\n",
      "3849.6670\n",
      "3849.6676\n",
      "3849.6684\n",
      "3849.6691\n",
      "3849.6698\n",
      "3849.6709\n",
      "3849.6719\n",
      "3849.6725\n",
      "3849.6732\n",
      "3849.6740\n",
      "3849.6748\n"
     ]
    }
   ],
   "source": [
    "f=open('waypoint1','r')\n",
    "print len(l1)\n",
    "for x in f:\n",
    "    if x[0]=='$':\n",
    "        #print x\n",
    "        l2=x.split(',')\n",
    "        print l2[2]\n",
    "f.close()"
   ]
  },
  {
   "cell_type": "code",
   "execution_count": null,
   "metadata": {
    "collapsed": true
   },
   "outputs": [],
   "source": []
  }
 ],
 "metadata": {
  "kernelspec": {
   "display_name": "Python 2",
   "language": "python",
   "name": "python2"
  },
  "language_info": {
   "codemirror_mode": {
    "name": "ipython",
    "version": 2
   },
   "file_extension": ".py",
   "mimetype": "text/x-python",
   "name": "python",
   "nbconvert_exporter": "python",
   "pygments_lexer": "ipython2",
   "version": "2.7.6"
  }
 },
 "nbformat": 4,
 "nbformat_minor": 0
}
